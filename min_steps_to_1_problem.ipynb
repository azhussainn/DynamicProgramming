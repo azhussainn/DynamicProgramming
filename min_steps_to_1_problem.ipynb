{
 "cells": [
  {
   "cell_type": "code",
   "execution_count": 114,
   "metadata": {},
   "outputs": [],
   "source": [
    "def minSteps(n, arr):\n",
    "    \n",
    "    if n <= 1:\n",
    "        return 0\n",
    "    \n",
    "    ans3 = n\n",
    "    if n % 3 == 0:\n",
    "        if arr[n//3] == 0:        \n",
    "            ans3 = minSteps(n//3, arr)\n",
    "        else:\n",
    "            ans3 = arr[n//3]       \n",
    "            \n",
    "    ans2 = n\n",
    "    if n % 2 == 0:\n",
    "        if arr[n//2] == 0:\n",
    "            ans2 = minSteps(n//2, arr)\n",
    "        else:\n",
    "            ans2 = arr[n//2]\n",
    "            \n",
    "    ans1 = n\n",
    "    if arr[n-1] == 0:     \n",
    "        ans1 = minSteps(n-1, arr)\n",
    "        \n",
    "    else:\n",
    "        arr[n-1] = ans1\n",
    "        \n",
    "    finalAns = 1 + min(ans1, ans2, ans3)\n",
    "    arr[n] = finalAns\n",
    "    return finalAns"
   ]
  },
  {
   "cell_type": "code",
   "execution_count": 115,
   "metadata": {},
   "outputs": [
    {
     "data": {
      "text/plain": [
       "2"
      ]
     },
     "execution_count": 115,
     "metadata": {},
     "output_type": "execute_result"
    }
   ],
   "source": [
    "n = 9\n",
    "arr = [0 for i in range(n+1)]\n",
    "minSteps(n, arr)"
   ]
  },
  {
   "cell_type": "code",
   "execution_count": 111,
   "metadata": {},
   "outputs": [],
   "source": [
    "def minStepIter(n):\n",
    "    dp = [0 for i in range(n+1)]\n",
    "    if n <= 1:\n",
    "        return 0 \n",
    "    \n",
    "    i = 2\n",
    "    while i <= n:\n",
    "        \n",
    "        ans1 = dp[i-1]\n",
    "        \n",
    "        ans2 = n\n",
    "        if i % 2 == 0:\n",
    "            ans2 = dp[i // 2]\n",
    "            \n",
    "        ans3 = n\n",
    "        if i % 3 == 0:\n",
    "            ans3 = dp[i // 3]\n",
    "            \n",
    "            \n",
    "        dp[i] = 1 + min(ans1, ans2, ans3)\n",
    "        i += 1\n",
    "        \n",
    "    return dp[n]"
   ]
  },
  {
   "cell_type": "code",
   "execution_count": 112,
   "metadata": {},
   "outputs": [
    {
     "name": "stdout",
     "output_type": "stream",
     "text": [
      "7\n"
     ]
    },
    {
     "data": {
      "text/plain": [
       "3"
      ]
     },
     "execution_count": 112,
     "metadata": {},
     "output_type": "execute_result"
    }
   ],
   "source": [
    "n = int(input())\n",
    "minStepIter(n)"
   ]
  },
  {
   "cell_type": "code",
   "execution_count": null,
   "metadata": {},
   "outputs": [],
   "source": []
  },
  {
   "cell_type": "code",
   "execution_count": null,
   "metadata": {},
   "outputs": [],
   "source": []
  }
 ],
 "metadata": {
  "kernelspec": {
   "display_name": "Python 3",
   "language": "python",
   "name": "python3"
  },
  "language_info": {
   "codemirror_mode": {
    "name": "ipython",
    "version": 3
   },
   "file_extension": ".py",
   "mimetype": "text/x-python",
   "name": "python",
   "nbconvert_exporter": "python",
   "pygments_lexer": "ipython3",
   "version": "3.7.4"
  }
 },
 "nbformat": 4,
 "nbformat_minor": 2
}
