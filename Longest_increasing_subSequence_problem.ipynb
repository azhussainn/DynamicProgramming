{
 "cells": [
  {
   "cell_type": "code",
   "execution_count": 57,
   "metadata": {},
   "outputs": [],
   "source": [
    "def func(arr, i, n, dp):\n",
    "    \n",
    "    if i == n:\n",
    "        return 0, 0\n",
    "    \n",
    "    including_max = 1\n",
    "    \n",
    "    for j in range(i+1, n):\n",
    "        if arr[j] > arr[i]:\n",
    "            if dp[j] == 0:\n",
    "                ans = func(arr, j, n, dp)\n",
    "                dp[j] = ans\n",
    "                further_including_max = ans[0]\n",
    "                \n",
    "            else:\n",
    "                further_including_max = dp[j][0]\n",
    "                \n",
    "            including_max = max(including_max, 1 + further_including_max)\n",
    "    if dp[i+1] == 0:\n",
    "        ans = func(arr, i+1, n, dp)\n",
    "        k[i+1] = ans\n",
    "        excluding_max = ans[1]\n",
    "        \n",
    "    else:\n",
    "        excluding_max = dp[i+1][1]\n",
    "        \n",
    "    overallMax = max(excluding_max, including_max)\n",
    "    return including_max, overallMax"
   ]
  },
  {
   "cell_type": "code",
   "execution_count": 58,
   "metadata": {},
   "outputs": [
    {
     "name": "stdout",
     "output_type": "stream",
     "text": [
      "4\n"
     ]
    }
   ],
   "source": [
    "arr = [1, 2, 3, 4]\n",
    "n = len(arr)\n",
    "dp = [0 for i in range(n+1)]\n",
    "i = 0\n",
    "ans = func(arr, i, n, dp)[1]\n",
    "print(ans)"
   ]
  },
  {
   "cell_type": "code",
   "execution_count": 99,
   "metadata": {},
   "outputs": [],
   "source": [
    "def funcIter(arr, n):\n",
    "    \n",
    "    dp = [ [0 for j in range(2)] for i in range(n+1)]\n",
    "    \n",
    "    for i in range(n-1, -1, -1):\n",
    "        \n",
    "        including_max = 1\n",
    "        for j in range(i+1, n):\n",
    "            if arr[j] > arr[i]:\n",
    "                including_max = max(including_max, 1+dp[j][0])\n",
    "                \n",
    "        dp[i][0] = including_max\n",
    "        excluding_max = dp[i+1][1]\n",
    "        overallMax = max(including_max, excluding_max)\n",
    "        dp[i][1] = overallMax\n",
    "        \n",
    "    return dp[0][1]"
   ]
  },
  {
   "cell_type": "code",
   "execution_count": 100,
   "metadata": {},
   "outputs": [
    {
     "name": "stdout",
     "output_type": "stream",
     "text": [
      "8\n",
      "6 7 1 2 3 4 10 9\n",
      "5\n"
     ]
    }
   ],
   "source": [
    "n = int(input())\n",
    "arr = [int(ele) for ele in input().split()]\n",
    "ans = funcIter(arr, n)\n",
    "print(ans)"
   ]
  }
 ],
 "metadata": {
  "kernelspec": {
   "display_name": "Python 3",
   "language": "python",
   "name": "python3"
  },
  "language_info": {
   "codemirror_mode": {
    "name": "ipython",
    "version": 3
   },
   "file_extension": ".py",
   "mimetype": "text/x-python",
   "name": "python",
   "nbconvert_exporter": "python",
   "pygments_lexer": "ipython3",
   "version": "3.7.4"
  }
 },
 "nbformat": 4,
 "nbformat_minor": 2
}
