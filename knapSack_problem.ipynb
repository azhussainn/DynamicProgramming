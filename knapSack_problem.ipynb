{
 "cells": [
  {
   "cell_type": "code",
   "execution_count": 21,
   "metadata": {},
   "outputs": [],
   "source": [
    "def knapsack(W, val, wt, n, i):\n",
    "    \n",
    "    if i == n:\n",
    "        return 0\n",
    "    \n",
    "    #if weight of current is greater than max weigth\n",
    "    if wt[i] > W:\n",
    "        #exclude current item\n",
    "        ans = knapsack(W, val, wt, n, i+1)        \n",
    "    else:\n",
    "\n",
    "        #including current element\n",
    "        ans1 = val[i] + knapsack(W-wt[i], val, wt, n, i+1)\n",
    "        \n",
    "        #excluding current element\n",
    "        ans2 = knapsack(W, val, wt, n, i+1)\n",
    "        ans = max(ans1, ans2)\n",
    "    \n",
    "    return ans"
   ]
  },
  {
   "cell_type": "code",
   "execution_count": 22,
   "metadata": {},
   "outputs": [
    {
     "name": "stdout",
     "output_type": "stream",
     "text": [
      "500\n"
     ]
    }
   ],
   "source": [
    "n = 3\n",
    "wt = [20, 25, 30]\n",
    "val = [200, 300, 100]\n",
    "\n",
    "W = 50\n",
    "n = len(val)\n",
    "\n",
    "ans = knapsack(W, val, wt, n, 0)\n",
    "print(ans)"
   ]
  },
  {
   "cell_type": "code",
   "execution_count": 45,
   "metadata": {},
   "outputs": [],
   "source": [
    "def knapSackIter(W, val, wt):\n",
    "    \n",
    "    n = len(val)\n",
    "    dp = [ [0 for j in range(W+1)] for i in range(n+1) ]\n",
    "    \n",
    "    for i in range(1, n+1):\n",
    "        for j in range(1, W+1):\n",
    "            \n",
    "            if j < wt[i-1]:\n",
    "                ans = dp[i-1][j]\n",
    "                \n",
    "            else:\n",
    "                ans1 = val[i-1] + dp[i-1][j-wt[i-1]]\n",
    "                ans2 = dp[i-1][j]\n",
    "                \n",
    "                \n",
    "                ans = max(ans1, ans2)\n",
    "                dp[i][j] = ans\n",
    "                \n",
    "    return dp[n][W]"
   ]
  },
  {
   "cell_type": "code",
   "execution_count": 46,
   "metadata": {},
   "outputs": [
    {
     "name": "stdout",
     "output_type": "stream",
     "text": [
      "50\n"
     ]
    }
   ],
   "source": [
    "val = [10, 20, 30]\n",
    "wt = [1, 1, 1]\n",
    "W = 2\n",
    "\n",
    "ans = knapSackIter(W, val, wt)\n",
    "print(ans)"
   ]
  },
  {
   "cell_type": "code",
   "execution_count": null,
   "metadata": {},
   "outputs": [],
   "source": []
  }
 ],
 "metadata": {
  "kernelspec": {
   "display_name": "Python 3",
   "language": "python",
   "name": "python3"
  },
  "language_info": {
   "codemirror_mode": {
    "name": "ipython",
    "version": 3
   },
   "file_extension": ".py",
   "mimetype": "text/x-python",
   "name": "python",
   "nbconvert_exporter": "python",
   "pygments_lexer": "ipython3",
   "version": "3.7.4"
  }
 },
 "nbformat": 4,
 "nbformat_minor": 2
}
