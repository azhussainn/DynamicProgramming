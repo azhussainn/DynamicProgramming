{
 "cells": [
  {
   "cell_type": "code",
   "execution_count": 146,
   "metadata": {},
   "outputs": [],
   "source": [
    "#recursive solution 1 with memoization\n",
    "def minSquares(n, arr):\n",
    "    if n == 0:\n",
    "        return 0\n",
    "    \n",
    "    i = 1\n",
    "    ans = n\n",
    "    while i * i <= n:\n",
    "        if arr[n - (i*i)] == 0:\n",
    "            currAns = 1 + minSquares(n - (i*i), arr)\n",
    "            ans = min(currAns, ans)\n",
    "            arr[n - (i*i)] = ans\n",
    "            \n",
    "        else:\n",
    "            currAns =  arr[n - (i*i)]\n",
    "            ans = min(currAns, ans)\n",
    "            arr[n - (i*i)] = ans\n",
    "        i += 1\n",
    "        \n",
    "    return ans\n",
    "\n",
    "\n",
    "#recursive solution 2 with memoization\n",
    "import math\n",
    "\n",
    "def minSquares2(n, arr):\n",
    "    \n",
    "    if n == 0:\n",
    "        return 0\n",
    "    \n",
    "    ans = n\n",
    "    root = int(math.sqrt(n))\n",
    "    for i in range(1, root+1):\n",
    "        \n",
    "        checkValue = n - (i*i)\n",
    "        \n",
    "        if arr[checkValue] == 0:\n",
    "            currAns = 1 + minSquares2(checkValue, arr)\n",
    "            \n",
    "        else:\n",
    "            currAns = arr[checkValue]\n",
    "            \n",
    "        ans = min(currAns, ans)\n",
    "        arr[checkValue] = ans\n",
    "        \n",
    "    return ans"
   ]
  },
  {
   "cell_type": "code",
   "execution_count": 151,
   "metadata": {},
   "outputs": [
    {
     "data": {
      "text/plain": [
       "2"
      ]
     },
     "execution_count": 151,
     "metadata": {},
     "output_type": "execute_result"
    }
   ],
   "source": [
    "n = 1000\n",
    "arr = [0 for i in range(n+1)]\n",
    "minSquares2(n, arr)"
   ]
  },
  {
   "cell_type": "code",
   "execution_count": 161,
   "metadata": {},
   "outputs": [],
   "source": [
    "#iterative solution 1\n",
    "def minSquaresIter(n):\n",
    "    arr = [0 for i in range(n+1)]\n",
    "    \n",
    "    i = 1\n",
    "    while i <= n:\n",
    "        ans = n\n",
    "        j = 1\n",
    "        \n",
    "        while j * j <= i:\n",
    "            currAns = 1 + arr[i - (j*j)]       \n",
    "            ans = min(currAns, ans)\n",
    "            j +=1\n",
    "            \n",
    "            \n",
    "        arr[i] = ans \n",
    "        i += 1\n",
    "                \n",
    "    return arr[n]\n",
    "\n",
    "#iterative solution 2\n",
    "import math\n",
    "\n",
    "def minSquaresIter2(n):\n",
    "    dp = [0 for i in range(n+1)]\n",
    "    \n",
    "    for i in range(1, n+1):\n",
    "        ans = n\n",
    "        root = int(math.sqrt(i))\n",
    "        \n",
    "        for j in range(1, root+1):\n",
    "            currAns = 1 + dp[i - (j*j)]\n",
    "            ans = min(currAns, ans)\n",
    "            \n",
    "        dp[i] = ans\n",
    "    return dp[n]"
   ]
  },
  {
   "cell_type": "code",
   "execution_count": 163,
   "metadata": {},
   "outputs": [
    {
     "name": "stdout",
     "output_type": "stream",
     "text": [
      "10\n",
      "2\n"
     ]
    }
   ],
   "source": [
    "n = int(input())\n",
    "print(minSquaresIter(n))"
   ]
  },
  {
   "cell_type": "code",
   "execution_count": 172,
   "metadata": {},
   "outputs": [
    {
     "data": {
      "text/plain": [
       "1"
      ]
     },
     "execution_count": 172,
     "metadata": {},
     "output_type": "execute_result"
    }
   ],
   "source": [
    "n = 36\n",
    "minSquaresIter2(n)"
   ]
  },
  {
   "cell_type": "code",
   "execution_count": null,
   "metadata": {},
   "outputs": [],
   "source": []
  }
 ],
 "metadata": {
  "kernelspec": {
   "display_name": "Python 3",
   "language": "python",
   "name": "python3"
  },
  "language_info": {
   "codemirror_mode": {
    "name": "ipython",
    "version": 3
   },
   "file_extension": ".py",
   "mimetype": "text/x-python",
   "name": "python",
   "nbconvert_exporter": "python",
   "pygments_lexer": "ipython3",
   "version": "3.7.4"
  }
 },
 "nbformat": 4,
 "nbformat_minor": 2
}
