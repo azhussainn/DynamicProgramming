{
 "cells": [
  {
   "cell_type": "code",
   "execution_count": 36,
   "metadata": {},
   "outputs": [],
   "source": [
    "def lcs(str1, str2, i, j, dp):\n",
    "    \n",
    "    if i == len(str1) or j == len(str2):\n",
    "        return 0\n",
    "    \n",
    "    if str1[i] == str2[j]:\n",
    "        if dp[i+1][j+1] == -1:\n",
    "            ans = 1 + lcs(str1, str2, i+1, j+1, dp)\n",
    "            dp[i+1][j+1] = ans\n",
    "            \n",
    "        else:\n",
    "            ans = 1 + dp[i+1][j+1]\n",
    "        \n",
    "    else:\n",
    "        if dp[i+1][j] == -1:\n",
    "            ans1 = lcs(str1, str2, i+1, j, dp)\n",
    "            dp[i+1][j] = ans1\n",
    "            \n",
    "        else:\n",
    "            ans1 = dp[i+1][j]\n",
    "            \n",
    "        if dp[i][j+1] == -1:\n",
    "            ans2 = lcs(str1, str2, i, j+1, dp)\n",
    "            dp[i][j+1] = ans2\n",
    "            \n",
    "            \n",
    "        else:\n",
    "            ans2 = dp[i][j+1]\n",
    "\n",
    "        \n",
    "        ans = max(ans1, ans2)\n",
    "    \n",
    "    return ans"
   ]
  },
  {
   "cell_type": "code",
   "execution_count": 40,
   "metadata": {},
   "outputs": [
    {
     "name": "stdout",
     "output_type": "stream",
     "text": [
      "abcd\n",
      "aceb\n",
      "2\n"
     ]
    }
   ],
   "source": [
    "str1 =input().strip()\n",
    "str2 =input().strip()\n",
    "\n",
    "n = len(str1)\n",
    "m = len(str2)\n",
    "dp = [ [-1 for j in range(m+1)] for i in range(n+1) ]\n",
    "\n",
    "i = 0\n",
    "j = 0\n",
    "print(lcs(str1, str2, i, j, dp))"
   ]
  },
  {
   "cell_type": "code",
   "execution_count": 41,
   "metadata": {},
   "outputs": [],
   "source": [
    "#bottom - up -approach\n",
    "def lcsIter(str1, str2):\n",
    "    \n",
    "    n = len(str1)\n",
    "    m = len(str2)\n",
    "    \n",
    "    dp = [ [ 0 for j in range(m+1)] for i in range(n+1) ]\n",
    "    \n",
    "    for i in range(n-1, -1, -1):\n",
    "        for j in range(m-1, -1, -1):\n",
    "            \n",
    "            if str1[i] == str2[j]:\n",
    "                dp[i][j] = 1 + dp[i+1][j+1]\n",
    "                \n",
    "            else:\n",
    "                ans1 = dp[i][j+1]\n",
    "                ans2 = dp[i+1][j]\n",
    "                ans = max(ans1, ans2)\n",
    "                dp[i][j] = ans\n",
    "                \n",
    "                \n",
    "    return dp[0][0]"
   ]
  },
  {
   "cell_type": "code",
   "execution_count": 43,
   "metadata": {},
   "outputs": [
    {
     "name": "stdout",
     "output_type": "stream",
     "text": [
      "abcde\n",
      "bdec\n",
      "3\n"
     ]
    }
   ],
   "source": [
    "str1 =input().strip()\n",
    "str2 =input().strip()\n",
    "print(lcsIter(str1, str2))"
   ]
  },
  {
   "cell_type": "code",
   "execution_count": null,
   "metadata": {},
   "outputs": [],
   "source": []
  }
 ],
 "metadata": {
  "kernelspec": {
   "display_name": "Python 3",
   "language": "python",
   "name": "python3"
  },
  "language_info": {
   "codemirror_mode": {
    "name": "ipython",
    "version": 3
   },
   "file_extension": ".py",
   "mimetype": "text/x-python",
   "name": "python",
   "nbconvert_exporter": "python",
   "pygments_lexer": "ipython3",
   "version": "3.7.4"
  }
 },
 "nbformat": 4,
 "nbformat_minor": 2
}
