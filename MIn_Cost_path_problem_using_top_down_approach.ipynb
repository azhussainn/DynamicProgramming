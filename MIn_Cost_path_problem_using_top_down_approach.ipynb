{
 "cells": [
  {
   "cell_type": "code",
   "execution_count": 2,
   "metadata": {},
   "outputs": [],
   "source": [
    "#iterative solution Top Down Approach\n",
    "\n",
    "import sys\n",
    "def minCostIter(cost, n, m):\n",
    "    \n",
    "    dp = [ [sys.maxsize for j in range(m+1) ] for i in range(n+1)]\n",
    "    \n",
    "    for i in range(1, n+1):\n",
    "        for j in range(1, m+1):\n",
    "            \n",
    "            if i == 1 and j == 1:\n",
    "                dp[i][j] = cost[0][0]\n",
    "                \n",
    "            else:\n",
    "                ans1 = dp[i-1][j]\n",
    "                ans2 = dp[i][j-1]\n",
    "                ans3 = dp[i-1][j-1]\n",
    "                \n",
    "                ans = cost[i-1][j-1] + min(ans1, ans2, ans3)\n",
    "                dp[i][j] = ans\n",
    "    \n",
    "    return dp[n][m]"
   ]
  },
  {
   "cell_type": "code",
   "execution_count": 4,
   "metadata": {},
   "outputs": [
    {
     "name": "stdout",
     "output_type": "stream",
     "text": [
      "30\n"
     ]
    }
   ],
   "source": [
    "n = 4\n",
    "m = 3\n",
    "\n",
    "cost = [[1, 5, 11], [8, 13, 12], [2, 3, 7], [15, 16, 18] ]\n",
    "\n",
    "print(minCostIter(cost, n, m))"
   ]
  },
  {
   "cell_type": "code",
   "execution_count": null,
   "metadata": {},
   "outputs": [],
   "source": []
  }
 ],
 "metadata": {
  "kernelspec": {
   "display_name": "Python 3",
   "language": "python",
   "name": "python3"
  },
  "language_info": {
   "codemirror_mode": {
    "name": "ipython",
    "version": 3
   },
   "file_extension": ".py",
   "mimetype": "text/x-python",
   "name": "python",
   "nbconvert_exporter": "python",
   "pygments_lexer": "ipython3",
   "version": "3.7.4"
  }
 },
 "nbformat": 4,
 "nbformat_minor": 2
}
