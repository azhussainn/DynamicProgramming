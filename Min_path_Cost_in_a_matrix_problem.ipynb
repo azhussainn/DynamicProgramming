{
 "cells": [
  {
   "cell_type": "code",
   "execution_count": 35,
   "metadata": {},
   "outputs": [],
   "source": [
    "#solution no 1\n",
    "import sys\n",
    "def minCost(k, i, j, n, m, dp):\n",
    "    \n",
    "    if i == n-1 and j == m-1:\n",
    "        return k[i][j]\n",
    "    \n",
    "    if i >= n or j >= m:\n",
    "        return sys.maxsize\n",
    "    \n",
    "    if dp[i][j+1] == 0:\n",
    "        ans1 = minCost(k, i, j+1, n, m, dp)\n",
    "        dp[i][j+1] = ans1\n",
    "        \n",
    "    else:\n",
    "        ans1 = dp[i][j+1]\n",
    "        \n",
    "    if dp[i+1][j] == 0:\n",
    "        ans2 = minCost(k, i+1, j, n, m, dp)\n",
    "        dp[i+1][j] = ans2\n",
    "        \n",
    "    else:\n",
    "        ans2 = dp[i+1][j]\n",
    "    \n",
    "    if dp[i+1][j+1] == 0:\n",
    "        ans3 = minCost(k, i+1, j+1, n, m, dp)\n",
    "        dp[i+1][j+1] = ans3\n",
    "        \n",
    "    else:\n",
    "        ans3 = dp[i+1][j+1]\n",
    "    \n",
    "    finalAns = k[i][j] + min(ans1, ans2, ans3)\n",
    "    return finalAns"
   ]
  },
  {
   "cell_type": "code",
   "execution_count": 37,
   "metadata": {},
   "outputs": [
    {
     "name": "stdout",
     "output_type": "stream",
     "text": [
      "3 4\n",
      "3 4 1 2\n",
      "2 1 8 9\n",
      "4 7 8 1\n",
      "13\n"
     ]
    }
   ],
   "source": [
    "n, m = list(map(int, input().split()))\n",
    "\n",
    "i = 0\n",
    "j = 0\n",
    "k = [list(map(int, input().split())) for i in range(n)]\n",
    "\n",
    "dp = [ [ 0 for j in range(m+1) ] for i in range(n+1)]\n",
    "\n",
    "print(minCost(k, i, j, n, m, dp))"
   ]
  },
  {
   "cell_type": "code",
   "execution_count": 49,
   "metadata": {},
   "outputs": [],
   "source": [
    "#solution no 2:\n",
    "\n",
    "def minCostV2(cost, i, j, n, m, dp):\n",
    "    \n",
    "    if i == n-1 and  j == m-1:\n",
    "        return cost[i][j]\n",
    "    \n",
    "    \n",
    "    if i >= n or j >= m:\n",
    "        return sys.maxsize\n",
    "    \n",
    "    if dp[i][j+1] == sys.maxsize:\n",
    "        ans1 = minCostV2(cost, i, j+1, n, m, dp)\n",
    "        dp[i][j+1] = ans1\n",
    "        \n",
    "    else:\n",
    "        ans1 = dp[i][j+1]\n",
    "        \n",
    "    if dp[i+1][j] == sys.maxsize:\n",
    "        ans2 = minCostV2(cost, i+1, j, n, m, dp)\n",
    "        dp[i+1][j] = ans2\n",
    "        \n",
    "    else:\n",
    "        ans2 = dp[i+1][j]\n",
    "        \n",
    "    if dp[i+1][j+1] == sys.maxsize:\n",
    "        ans3 = minCostV2(cost, i+1, j+1, n, m, dp)\n",
    "        dp[i+1][j+1] = ans3\n",
    "        \n",
    "    else:\n",
    "        ans3 = dp[i+1][j+1]\n",
    "\n",
    "    ans = cost[i][j] + min(ans1, ans2, ans3)\n",
    "    return ans"
   ]
  },
  {
   "cell_type": "code",
   "execution_count": 50,
   "metadata": {},
   "outputs": [
    {
     "name": "stdout",
     "output_type": "stream",
     "text": [
      "30\n"
     ]
    }
   ],
   "source": [
    "n = 4\n",
    "m = 3\n",
    "\n",
    "i = 0\n",
    "j = 0\n",
    "cost = [[1, 5, 11], [8, 13, 12], [2, 3, 7], [15, 16, 18] ]\n",
    "\n",
    "dp = [ [sys.maxsize for j in range(m+1) ] for i in range(n+1)]\n",
    "print(minCostV2(cost, i, j, n, m, dp))"
   ]
  },
  {
   "cell_type": "code",
   "execution_count": 51,
   "metadata": {},
   "outputs": [],
   "source": [
    "#iterative solution\n",
    "\n",
    "def minCostIter(cost, n, m):\n",
    "    \n",
    "    dp = [ [sys.maxsize for j in range(m+1) ] for i in range(n+1)]\n",
    "    \n",
    "    for i in range(n-1, -1, -1):\n",
    "        for j in range(m-1, -1, -1):\n",
    "            if i == n-1 and j == m-1:\n",
    "                dp[i][j] = cost[i][j]\n",
    "                \n",
    "            else:\n",
    "                ans1 = dp[i+1][j]\n",
    "                ans2 = dp[i][j+1]\n",
    "                ans3 = dp[i+1][j+1]\n",
    "                \n",
    "                ans = cost[i][j] + min(ans1, ans2, ans3)\n",
    "                dp[i][j] = ans\n",
    "    \n",
    "    return dp[0][0]"
   ]
  },
  {
   "cell_type": "code",
   "execution_count": 52,
   "metadata": {},
   "outputs": [
    {
     "name": "stdout",
     "output_type": "stream",
     "text": [
      "30\n"
     ]
    }
   ],
   "source": [
    "n = 4\n",
    "m = 3\n",
    "\n",
    "cost = [[1, 5, 11], [8, 13, 12], [2, 3, 7], [15, 16, 18] ]\n",
    "\n",
    "print(minCostIter(cost, n, m))"
   ]
  },
  {
   "cell_type": "code",
   "execution_count": null,
   "metadata": {},
   "outputs": [],
   "source": []
  }
 ],
 "metadata": {
  "kernelspec": {
   "display_name": "Python 3",
   "language": "python",
   "name": "python3"
  },
  "language_info": {
   "codemirror_mode": {
    "name": "ipython",
    "version": 3
   },
   "file_extension": ".py",
   "mimetype": "text/x-python",
   "name": "python",
   "nbconvert_exporter": "python",
   "pygments_lexer": "ipython3",
   "version": "3.7.4"
  }
 },
 "nbformat": 4,
 "nbformat_minor": 2
}
